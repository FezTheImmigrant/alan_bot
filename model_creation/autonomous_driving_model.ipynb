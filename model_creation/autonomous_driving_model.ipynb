{
 "cells": [
  {
   "cell_type": "code",
   "execution_count": 67,
   "id": "recognized-gross",
   "metadata": {},
   "outputs": [],
   "source": [
    "import tensorflow as tf\n",
    "import numpy as np\n",
    "from tensorflow.keras import layers, models\n",
    "from sklearn.model_selection import train_test_split"
   ]
  },
  {
   "cell_type": "code",
   "execution_count": 68,
   "id": "relevant-scratch",
   "metadata": {},
   "outputs": [
    {
     "name": "stdout",
     "output_type": "stream",
     "text": [
      "(32, 33, 47, 1)\n",
      "(32, 2)\n"
     ]
    }
   ],
   "source": [
    "features = np.asarray(np.load(\"/home/sorozco0612/dev/alan_bot/data_processing/road_data/features.npy\"))\n",
    "labels = np.asarray(np.load(\"/home/sorozco0612/dev/alan_bot/data_processing/road_data/labels.npy\"))\n",
    "features = features.reshape(list(features.shape)+ [1])\n",
    "\n",
    "print(features.shape)\n",
    "print(labels.shape)\n",
    "\n",
    "\n",
    "x_train, x_test, y_train, y_test = train_test_split(features,labels)\n"
   ]
  },
  {
   "cell_type": "code",
   "execution_count": 69,
   "id": "outstanding-blues",
   "metadata": {},
   "outputs": [
    {
     "name": "stdout",
     "output_type": "stream",
     "text": [
      "Model: \"sequential_13\"\n",
      "_________________________________________________________________\n",
      "Layer (type)                 Output Shape              Param #   \n",
      "=================================================================\n",
      "conv2d_13 (Conv2D)           (None, 31, 45, 32)        320       \n",
      "_________________________________________________________________\n",
      "max_pooling2d_8 (MaxPooling2 (None, 15, 22, 32)        0         \n",
      "_________________________________________________________________\n",
      "flatten_8 (Flatten)          (None, 10560)             0         \n",
      "_________________________________________________________________\n",
      "dense_16 (Dense)             (None, 64)                675904    \n",
      "_________________________________________________________________\n",
      "dense_17 (Dense)             (None, 2)                 130       \n",
      "=================================================================\n",
      "Total params: 676,354\n",
      "Trainable params: 676,354\n",
      "Non-trainable params: 0\n",
      "_________________________________________________________________\n"
     ]
    }
   ],
   "source": [
    "model = models.Sequential()\n",
    "model.add(layers.Conv2D(32,(3,3),activation='relu', input_shape=(33,47,1)))\n",
    "model.add(layers.MaxPool2D((2,2)))\n",
    "\n",
    "model.add(layers.Flatten())\n",
    "model.add(layers.Dense(64,activation='relu'))\n",
    "model.add(layers.Dense(2, activation='sigmoid'))\n",
    "\n",
    "model.summary()"
   ]
  },
  {
   "cell_type": "code",
   "execution_count": 70,
   "id": "british-insertion",
   "metadata": {},
   "outputs": [],
   "source": [
    "model.compile(optimizer='adam',\n",
    "              loss = tf.keras.losses.MeanSquaredError(),\n",
    "              metrics=['mean_squared_error'])"
   ]
  },
  {
   "cell_type": "code",
   "execution_count": 71,
   "id": "proud-dimension",
   "metadata": {},
   "outputs": [
    {
     "name": "stdout",
     "output_type": "stream",
     "text": [
      "Epoch 1/10\n",
      "1/1 [==============================] - 2s 2s/step - loss: 0.2500 - mean_squared_error: 0.2500 - val_loss: 0.2498 - val_mean_squared_error: 0.2498\n",
      "Epoch 2/10\n",
      "1/1 [==============================] - 0s 24ms/step - loss: 0.2498 - mean_squared_error: 0.2498 - val_loss: 0.2495 - val_mean_squared_error: 0.2495\n",
      "Epoch 3/10\n",
      "1/1 [==============================] - 0s 25ms/step - loss: 0.2495 - mean_squared_error: 0.2495 - val_loss: 0.2493 - val_mean_squared_error: 0.2493\n",
      "Epoch 4/10\n",
      "1/1 [==============================] - 0s 23ms/step - loss: 0.2493 - mean_squared_error: 0.2493 - val_loss: 0.2490 - val_mean_squared_error: 0.2490\n",
      "Epoch 5/10\n",
      "1/1 [==============================] - 0s 22ms/step - loss: 0.2490 - mean_squared_error: 0.2490 - val_loss: 0.2488 - val_mean_squared_error: 0.2488\n",
      "Epoch 6/10\n",
      "1/1 [==============================] - 0s 23ms/step - loss: 0.2488 - mean_squared_error: 0.2488 - val_loss: 0.2485 - val_mean_squared_error: 0.2485\n",
      "Epoch 7/10\n",
      "1/1 [==============================] - 0s 23ms/step - loss: 0.2485 - mean_squared_error: 0.2485 - val_loss: 0.2483 - val_mean_squared_error: 0.2483\n",
      "Epoch 8/10\n",
      "1/1 [==============================] - 0s 23ms/step - loss: 0.2483 - mean_squared_error: 0.2483 - val_loss: 0.2480 - val_mean_squared_error: 0.2480\n",
      "Epoch 9/10\n",
      "1/1 [==============================] - 0s 23ms/step - loss: 0.2480 - mean_squared_error: 0.2480 - val_loss: 0.2478 - val_mean_squared_error: 0.2478\n",
      "Epoch 10/10\n",
      "1/1 [==============================] - 0s 22ms/step - loss: 0.2478 - mean_squared_error: 0.2478 - val_loss: 0.2475 - val_mean_squared_error: 0.2475\n"
     ]
    }
   ],
   "source": [
    "fit = model.fit(x_train,y_train,epochs=10,validation_data=(x_test,y_test))"
   ]
  },
  {
   "cell_type": "code",
   "execution_count": null,
   "id": "female-forum",
   "metadata": {},
   "outputs": [],
   "source": []
  }
 ],
 "metadata": {
  "kernelspec": {
   "display_name": "computer_vision",
   "language": "python",
   "name": "computer_vision"
  },
  "language_info": {
   "codemirror_mode": {
    "name": "ipython",
    "version": 3
   },
   "file_extension": ".py",
   "mimetype": "text/x-python",
   "name": "python",
   "nbconvert_exporter": "python",
   "pygments_lexer": "ipython3",
   "version": "3.6.9"
  }
 },
 "nbformat": 4,
 "nbformat_minor": 5
}
